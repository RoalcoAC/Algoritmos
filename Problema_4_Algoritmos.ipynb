{
  "nbformat": 4,
  "nbformat_minor": 0,
  "metadata": {
    "colab": {
      "provenance": [],
      "authorship_tag": "ABX9TyOdfzlf+ihCxRtrjdgup9Ek",
      "include_colab_link": true
    },
    "kernelspec": {
      "name": "python3",
      "display_name": "Python 3"
    },
    "language_info": {
      "name": "python"
    }
  },
  "cells": [
    {
      "cell_type": "markdown",
      "metadata": {
        "id": "view-in-github",
        "colab_type": "text"
      },
      "source": [
        "<a href=\"https://colab.research.google.com/github/RoalcoAC/Algoritmos/blob/main/Problema_4_Algoritmos.ipynb\" target=\"_parent\"><img src=\"https://colab.research.google.com/assets/colab-badge.svg\" alt=\"Open In Colab\"/></a>"
      ]
    },
    {
      "cell_type": "code",
      "source": [
        "import pandas as pd\n",
        "import numpy as np\n",
        "from scipy.optimize import minimize\n",
        "\n",
        "def leer_datos_desde_excel(ruta_archivo_excel):\n",
        "    try:\n",
        "        data_frame = pd.read_excel(ruta_archivo_excel)\n",
        "        return data_frame\n",
        "    except FileNotFoundError:\n",
        "        raise FileNotFoundError(\"No se pudo encontrar el archivo. Asegúrate de proporcionar la ruta correcta.\")\n",
        "    except Exception as e:\n",
        "        raise Exception(f\"Ocurrió un error al leer el archivo: {e}\")\n",
        "\n",
        "def funcion_Ld(X, data_frame):\n",
        "    try:\n",
        "        m = len(data_frame)  # Cantidad de observaciones (filas) en el DataFrame\n",
        "        Ld = 0\n",
        "        for index, row in data_frame.iterrows():\n",
        "            x_y_subset = np.array([row[\"Edad (en años)\"], row[\"Peso (en lb)\"]])\n",
        "            z_value = row[\"presion arterial\"]\n",
        "            Ld += np.sum((np.dot(x_y_subset, X) - np.array([z_value]))**2)\n",
        "        Ld /= (2 * m)  # Normalización con 1/2m\n",
        "        return Ld\n",
        "    except Exception as e:\n",
        "        raise Exception(f\"Ocurrió un error al calcular la función Ld: {e}\")\n",
        "\n",
        "def modelo_prediccion(data_frame, X_inicial):\n",
        "    try:\n",
        "        # Encontrar el mínimo de la función Ld(X) con la nueva definición\n",
        "        resultado_optimizacion = minimize(funcion_Ld, X_inicial, args=(data_frame,), method='BFGS')\n",
        "        X_optimo = resultado_optimizacion.x\n",
        "\n",
        "        # Definir la función alpha(X) y calcular su valor\n",
        "        def alpha(X):\n",
        "            return np.dot(X_optimo, X)\n",
        "\n",
        "        # Imprimir la función alpha(X) en el formato especificado\n",
        "        print(f\"alpha(X) = {X_optimo} * (X1, X2)\")\n",
        "\n",
        "        # Mostrar el vector (X, Y, Z) de la tabla\n",
        "        data_frame[\"Vector (X, Y, Z)\"] = list(zip(data_frame[\"Edad (en años)\"], data_frame[\"Peso (en lb)\"], data_frame[\"presion arterial\"]))\n",
        "        print(\"\\nVector (X, Y, Z) de la tabla:\")\n",
        "        print(data_frame[[\"Vector (X, Y, Z)\"]])\n",
        "\n",
        "        return X_optimo\n",
        "    except Exception as e:\n",
        "        raise Exception(f\"Ocurrió un error en el modelo de predicción: {e}\")\n",
        "\n",
        "# Ruta del archivo Excel o nombre de la tabla\n",
        "ruta_archivo_excel = \"Problema_4.xlsx\"  # Reemplaza con la ruta correcta o nombre de la tabla\n",
        "\n",
        "# Leer el archivo Excel o la tabla\n",
        "try:\n",
        "    data_frame = leer_datos_desde_excel(ruta_archivo_excel)\n",
        "    print(\"Datos leídos desde el archivo:\")\n",
        "    print(data_frame)\n",
        "\n",
        "    # Definir la nueva variable X inicial (puedes cambiar los valores o dimensiones)\n",
        "    X_inicial = np.array([1, 2])  # Reemplaza con los valores apropiados\n",
        "\n",
        "    # Crear el modelo de predicción y obtener el valor óptimo de la nueva variable X\n",
        "    X_optimo = modelo_prediccion(data_frame, X_inicial)\n",
        "\n",
        "    print(\"\\nValor óptimo de la nueva variable X:\")\n",
        "    print(X_optimo)\n",
        "except FileNotFoundError as e:\n",
        "    print(f\"Error: {e}\")\n",
        "except Exception as e:\n",
        "    print(f\"Ocurrió un error: {e}\")\n"
      ],
      "metadata": {
        "colab": {
          "base_uri": "https://localhost:8080/"
        },
        "id": "HUladmEbmwyk",
        "outputId": "e66f8157-c811-410b-af13-89005e78676e"
      },
      "execution_count": 37,
      "outputs": [
        {
          "output_type": "stream",
          "name": "stdout",
          "text": [
            "Datos leídos desde el archivo:\n",
            "   Edad (en años)  Peso (en lb)  presion arterial\n",
            "0              16           140               125\n",
            "1              25           149               129\n",
            "2              39           165               127\n",
            "3              45           170               150\n",
            "4              49           165               161\n",
            "5              64           159               144\n",
            "6              70           144               132\n",
            "alpha(X) = [0.18725719 0.83300287] * (X1, X2)\n",
            "\n",
            "Vector (X, Y, Z) de la tabla:\n",
            "  Vector (X, Y, Z)\n",
            "0   (16, 140, 125)\n",
            "1   (25, 149, 129)\n",
            "2   (39, 165, 127)\n",
            "3   (45, 170, 150)\n",
            "4   (49, 165, 161)\n",
            "5   (64, 159, 144)\n",
            "6   (70, 144, 132)\n",
            "\n",
            "Valor óptimo de la nueva variable X:\n",
            "[0.18725719 0.83300287]\n"
          ]
        }
      ]
    }
  ]
}